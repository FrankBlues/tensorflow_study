{
 "cells": [
  {
   "cell_type": "code",
   "execution_count": 1,
   "metadata": {},
   "outputs": [],
   "source": [
    "import tensorflow as tf\n",
    "from tensorflow.examples.tutorials.mnist import input_data\n",
    "import time"
   ]
  },
  {
   "cell_type": "code",
   "execution_count": 3,
   "metadata": {},
   "outputs": [
    {
     "name": "stdout",
     "output_type": "stream",
     "text": [
      "Extracting MINIST_data/train-images-idx3-ubyte.gz\n",
      "Extracting MINIST_data/train-labels-idx1-ubyte.gz\n",
      "Extracting MINIST_data/t10k-images-idx3-ubyte.gz\n",
      "Extracting MINIST_data/t10k-labels-idx1-ubyte.gz\n",
      "Iter 0,Testing accuracy 0.789\n",
      "Iter 1,Testing accuracy 0.8663\n",
      "Iter 2,Testing accuracy 0.8832\n",
      "Iter 3,Testing accuracy 0.8939\n",
      "Iter 4,Testing accuracy 0.8994\n",
      "Iter 5,Testing accuracy 0.9034\n",
      "Iter 6,Testing accuracy 0.9062\n",
      "Iter 7,Testing accuracy 0.9081\n",
      "Iter 8,Testing accuracy 0.9094\n",
      "Iter 9,Testing accuracy 0.9114\n",
      "Iter 10,Testing accuracy 0.9135\n",
      "Iter 11,Testing accuracy 0.9151\n",
      "Iter 12,Testing accuracy 0.9152\n",
      "Iter 13,Testing accuracy 0.9158\n",
      "Iter 14,Testing accuracy 0.9166\n",
      "Iter 15,Testing accuracy 0.9184\n",
      "Iter 16,Testing accuracy 0.9186\n",
      "Iter 17,Testing accuracy 0.9199\n",
      "Iter 18,Testing accuracy 0.9205\n",
      "Iter 19,Testing accuracy 0.921\n",
      "Iter 20,Testing accuracy 0.9211\n",
      "26.11480689048767\n"
     ]
    }
   ],
   "source": [
    "\n",
    "mnist = input_data.read_data_sets(\"MINIST_data\",one_hot=True)\n",
    "\n",
    "batch_size = 50\n",
    "\n",
    "n_batch = mnist.train.num_examples // batch_size\n",
    "\n",
    "#placeholder\n",
    "x = tf.placeholder(tf.float32,[None,784])\n",
    "y = tf.placeholder(tf.float32,[None,10])\n",
    "\n",
    "#创建简单神经网络\n",
    "w = tf.Variable(tf.zeros([784,10]))\n",
    "b = tf.Variable(tf.zeros([10])+0.01)\n",
    "prediction = tf.nn.softmax(tf.matmul(x,w)+b)\n",
    "\n",
    "#二次代价函数\n",
    "#loss = tf.reduce_mean(tf.square(y - prediction))\n",
    "#交叉熵\n",
    "loss = tf.reduce_mean(tf.nn.softmax_cross_entropy_with_logits_v2(labels = y,logits = prediction))\n",
    "\n",
    "#优化器\n",
    "#train_step = tf.train.GradientDescentOptimizer(0.2).minimize(loss)\n",
    "train_step = tf.train.AdamOptimizer(1e-4).minimize(loss)\n",
    "#train_step = tf.train.AdadeltaOptimizer(0.02).minimize(loss)\n",
    "\n",
    "init = tf.global_variables_initializer()\n",
    "\n",
    "correct_prediction = tf.equal(tf.argmax(y,1),tf.argmax(prediction,1))\n",
    "\n",
    "accuracy = tf.reduce_mean(tf.cast(correct_prediction,tf.float32))\n",
    "\n",
    "saver = tf.train.Saver()\n",
    "s = time.time()\n",
    "with tf.Session() as sess:\n",
    "    sess.run(init)\n",
    "    for epoch in range(21):\n",
    "        for batch in range(n_batch):\n",
    "            batch_xs,batch_ys = mnist.train.next_batch(batch_size)\n",
    "            sess.run(train_step,feed_dict = {x:batch_xs,y:batch_ys})\n",
    "        \n",
    "        acc = sess.run(accuracy,feed_dict = {x:mnist.test.images,y:mnist.test.labels})\n",
    "        \n",
    "        print(\"Iter \" + str(epoch) + \",Testing accuracy \" + str(acc))\n",
    "    saver.save(sess,\"./net/my_net.ckpt\")\n",
    "print(time.time() - s)"
   ]
  },
  {
   "cell_type": "code",
   "execution_count": null,
   "metadata": {},
   "outputs": [],
   "source": []
  }
 ],
 "metadata": {
  "kernelspec": {
   "display_name": "Python 3",
   "language": "python",
   "name": "python3"
  },
  "language_info": {
   "codemirror_mode": {
    "name": "ipython",
    "version": 3
   },
   "file_extension": ".py",
   "mimetype": "text/x-python",
   "name": "python",
   "nbconvert_exporter": "python",
   "pygments_lexer": "ipython3",
   "version": "3.6.6"
  }
 },
 "nbformat": 4,
 "nbformat_minor": 2
}
