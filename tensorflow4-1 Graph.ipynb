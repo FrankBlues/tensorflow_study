{
 "cells": [
  {
   "cell_type": "code",
   "execution_count": 1,
   "metadata": {},
   "outputs": [],
   "source": [
    "import tensorflow as tf\n",
    "from tensorflow.examples.tutorials.mnist import input_data\n",
    "import time"
   ]
  },
  {
   "cell_type": "code",
   "execution_count": 2,
   "metadata": {},
   "outputs": [
    {
     "name": "stdout",
     "output_type": "stream",
     "text": [
      "WARNING:tensorflow:From <ipython-input-2-6bbff6b5ecf2>:2: read_data_sets (from tensorflow.contrib.learn.python.learn.datasets.mnist) is deprecated and will be removed in a future version.\n",
      "Instructions for updating:\n",
      "Please use alternatives such as official/mnist/dataset.py from tensorflow/models.\n",
      "WARNING:tensorflow:From /Users/menglimeng/miniconda3/lib/python3.6/site-packages/tensorflow/contrib/learn/python/learn/datasets/mnist.py:260: maybe_download (from tensorflow.contrib.learn.python.learn.datasets.base) is deprecated and will be removed in a future version.\n",
      "Instructions for updating:\n",
      "Please write your own downloading logic.\n",
      "WARNING:tensorflow:From /Users/menglimeng/miniconda3/lib/python3.6/site-packages/tensorflow/contrib/learn/python/learn/datasets/mnist.py:262: extract_images (from tensorflow.contrib.learn.python.learn.datasets.mnist) is deprecated and will be removed in a future version.\n",
      "Instructions for updating:\n",
      "Please use tf.data to implement this functionality.\n",
      "Extracting MINIST_data/train-images-idx3-ubyte.gz\n",
      "WARNING:tensorflow:From /Users/menglimeng/miniconda3/lib/python3.6/site-packages/tensorflow/contrib/learn/python/learn/datasets/mnist.py:267: extract_labels (from tensorflow.contrib.learn.python.learn.datasets.mnist) is deprecated and will be removed in a future version.\n",
      "Instructions for updating:\n",
      "Please use tf.data to implement this functionality.\n",
      "Extracting MINIST_data/train-labels-idx1-ubyte.gz\n",
      "WARNING:tensorflow:From /Users/menglimeng/miniconda3/lib/python3.6/site-packages/tensorflow/contrib/learn/python/learn/datasets/mnist.py:110: dense_to_one_hot (from tensorflow.contrib.learn.python.learn.datasets.mnist) is deprecated and will be removed in a future version.\n",
      "Instructions for updating:\n",
      "Please use tf.one_hot on tensors.\n",
      "Extracting MINIST_data/t10k-images-idx3-ubyte.gz\n",
      "Extracting MINIST_data/t10k-labels-idx1-ubyte.gz\n",
      "WARNING:tensorflow:From /Users/menglimeng/miniconda3/lib/python3.6/site-packages/tensorflow/contrib/learn/python/learn/datasets/mnist.py:290: DataSet.__init__ (from tensorflow.contrib.learn.python.learn.datasets.mnist) is deprecated and will be removed in a future version.\n",
      "Instructions for updating:\n",
      "Please use alternatives such as official/mnist/dataset.py from tensorflow/models.\n",
      "Iter 0,Testing accuracy 0.9082\n",
      "Iter 1,Testing accuracy 0.915\n",
      "3.171860933303833\n"
     ]
    }
   ],
   "source": [
    "\n",
    "mnist = input_data.read_data_sets(\"MINIST_data\",one_hot=True)\n",
    "\n",
    "batch_size = 50\n",
    "\n",
    "n_batch = mnist.train.num_examples // batch_size\n",
    "\n",
    "#命名空间\n",
    "\n",
    "#placeholder\n",
    "with tf.name_scope(\"input\"):\n",
    "    x = tf.placeholder(tf.float32,[None,784],name = \"x-input\")\n",
    "    y = tf.placeholder(tf.float32,[None,10],name = \"y-input\")\n",
    "\n",
    "with tf.name_scope(\"layer\"):\n",
    "    with tf.name_scope(\"weight\"):\n",
    "        \n",
    "        #创建简单神经网络\n",
    "        w = tf.Variable(tf.zeros([784,10]),name='w')\n",
    "    with tf.name_scope(\"biases\"):\n",
    "        \n",
    "        b = tf.Variable(tf.zeros([10])+0.01,name='b')\n",
    "    with tf.name_scope(\"softmax\"):\n",
    "        \n",
    "        prediction = tf.nn.softmax(tf.matmul(x,w)+b)\n",
    "\n",
    "#二次代价函数\n",
    "#loss = tf.reduce_mean(tf.square(y - prediction))\n",
    "#交叉熵\n",
    "with tf.name_scope(\"loss\"):\n",
    "    loss = tf.reduce_mean(tf.nn.softmax_cross_entropy_with_logits_v2(labels = y,logits = prediction))\n",
    "    \n",
    "\n",
    "#优化器\n",
    "with tf.name_scope(\"train\"):\n",
    "    \n",
    "    #train_step = tf.train.GradientDescentOptimizer(0.2).minimize(loss)\n",
    "    train_step = tf.train.AdamOptimizer(1e-3).minimize(loss)\n",
    "    #train_step = tf.train.AdadeltaOptimizer(0.02).minimize(loss)\n",
    "\n",
    "init = tf.global_variables_initializer()\n",
    "\n",
    "with tf.name_scope(\"accuracy\"):\n",
    "    with tf.name_scope(\"correct_prediction\"):\n",
    "        correct_prediction = tf.equal(tf.argmax(y,1),tf.argmax(prediction,1))\n",
    "    with tf.name_scope(\"correct_prediction\"):\n",
    "        accuracy = tf.reduce_mean(tf.cast(correct_prediction,tf.float32))\n",
    "s = time.time()\n",
    "with tf.Session() as sess:\n",
    "    sess.run(init)\n",
    "    writer = tf.summary.FileWriter(\"logs\",sess.graph)\n",
    "    for epoch in range(2):\n",
    "        for batch in range(n_batch):\n",
    "            batch_xs,batch_ys = mnist.train.next_batch(batch_size)\n",
    "            sess.run(train_step,feed_dict = {x:batch_xs,y:batch_ys})\n",
    "        \n",
    "        acc = sess.run(accuracy,feed_dict = {x:mnist.test.images,y:mnist.test.labels})\n",
    "        \n",
    "        print(\"Iter \" + str(epoch) + \",Testing accuracy \" + str(acc))\n",
    "print(time.time() - s)"
   ]
  },
  {
   "cell_type": "markdown",
   "metadata": {},
   "source": [
    "运行完成后\n",
    "命令行运行 tensorboard --logdir=.\n",
    "根据生成的地址查看图"
   ]
  }
 ],
 "metadata": {
  "kernelspec": {
   "display_name": "Python 3",
   "language": "python",
   "name": "python3"
  },
  "language_info": {
   "codemirror_mode": {
    "name": "ipython",
    "version": 3
   },
   "file_extension": ".py",
   "mimetype": "text/x-python",
   "name": "python",
   "nbconvert_exporter": "python",
   "pygments_lexer": "ipython3",
   "version": "3.6.6"
  }
 },
 "nbformat": 4,
 "nbformat_minor": 2
}
