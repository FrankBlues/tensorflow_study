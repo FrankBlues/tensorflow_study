{
 "cells": [
  {
   "cell_type": "code",
   "execution_count": 1,
   "metadata": {},
   "outputs": [],
   "source": [
    "import tensorflow as tf"
   ]
  },
  {
   "cell_type": "code",
   "execution_count": 2,
   "metadata": {},
   "outputs": [
    {
     "data": {
      "text/plain": [
       "<tf.Tensor 'MatMul:0' shape=(1, 1) dtype=int32>"
      ]
     },
     "execution_count": 2,
     "metadata": {},
     "output_type": "execute_result"
    }
   ],
   "source": [
    "#constant\n",
    "m1 = tf.constant([[3,3]])\n",
    "m2 = tf.constant([[2],[3]])\n",
    "\n",
    "product = tf.matmul(m1,m2)\n",
    "product"
   ]
  },
  {
   "cell_type": "code",
   "execution_count": 4,
   "metadata": {},
   "outputs": [
    {
     "name": "stdout",
     "output_type": "stream",
     "text": [
      "[[15]]\n"
     ]
    }
   ],
   "source": [
    "#session\n",
    "sess = tf.Session()\n",
    "#graph run in session\n",
    "result = sess.run(product)\n",
    "sess.close()\n",
    "result\n",
    "print(result)"
   ]
  },
  {
   "cell_type": "code",
   "execution_count": 5,
   "metadata": {},
   "outputs": [
    {
     "data": {
      "text/plain": [
       "array([[15]], dtype=int32)"
      ]
     },
     "execution_count": 5,
     "metadata": {},
     "output_type": "execute_result"
    }
   ],
   "source": [
    "#the usual way\n",
    "with tf.Session() as sess:\n",
    "    result = sess.run(product)\n",
    "result"
   ]
  },
  {
   "cell_type": "code",
   "execution_count": 11,
   "metadata": {},
   "outputs": [
    {
     "name": "stdout",
     "output_type": "stream",
     "text": [
      "[-2 -1]\n",
      "[4 5]\n"
     ]
    }
   ],
   "source": [
    "#Variable\n",
    "x = tf.Variable([1,2])\n",
    "a = tf.constant([3,3])\n",
    "\n",
    "#variable initial 变量必须初始化\n",
    "init = tf.global_variables_initializer()\n",
    "sub = tf.subtract(x,a)\n",
    "add = tf.add(x,a)\n",
    "#run within session\n",
    "with tf.Session() as sess:\n",
    "    sess.run(init) #初始化变量\n",
    "    print(sess.run(sub))\n",
    "    print(sess.run(add))\n"
   ]
  },
  {
   "cell_type": "code",
   "execution_count": 14,
   "metadata": {},
   "outputs": [
    {
     "name": "stdout",
     "output_type": "stream",
     "text": [
      "0\n",
      "1\n",
      "2\n",
      "3\n",
      "4\n"
     ]
    }
   ],
   "source": [
    "\n",
    "state = tf.Variable(0,name='count')\n",
    "\n",
    "new_value = tf.add(state,1)\n",
    "\n",
    "update = tf.assign(state,new_value)\n",
    "\n",
    "#variable initial\n",
    "init = tf.global_variables_initializer()\n",
    "\n",
    "#run within session\n",
    "with tf.Session() as sess:\n",
    "    sess.run(init)\n",
    "    #print(sess.run(state))\n",
    "    #loop\n",
    "    for _ in range(5):\n",
    "        \n",
    "        print(sess.run(state))\n",
    "        sess.run(update)\n",
    "\n"
   ]
  },
  {
   "cell_type": "code",
   "execution_count": 30,
   "metadata": {},
   "outputs": [
    {
     "name": "stdout",
     "output_type": "stream",
     "text": [
      "[b'x']\n",
      "[-2 -1]\n",
      "[4 5]\n"
     ]
    }
   ],
   "source": [
    "tf.reset_default_graph()\n",
    "#Variable\n",
    "x = tf.get_variable(\"x\", dtype=tf.int32,initializer=tf.constant([1,2]))\n",
    "a = tf.constant([3,3])\n",
    "\n",
    "#variable initial 变量必须初始化\n",
    "#init = tf.global_variables_initializer()\n",
    "sub = tf.subtract(x,a)\n",
    "add = tf.add(x,a)\n",
    "#run within session\n",
    "with tf.Session() as sess:\n",
    "    print(sess.run(tf.report_uninitialized_variables())) #未初始化变量\n",
    "    #sess.run(tf.global_variables_initializer()) #初始化所有\n",
    "    sess.run(x.initializer) #初始化指定变量\n",
    "    print(sess.run(sub))\n",
    "    print(sess.run(add))"
   ]
  },
  {
   "cell_type": "code",
   "execution_count": 40,
   "metadata": {},
   "outputs": [
    {
     "name": "stdout",
     "output_type": "stream",
     "text": [
      "0\n",
      "1\n",
      "2\n",
      "3\n",
      "4\n"
     ]
    }
   ],
   "source": [
    "tf.reset_default_graph()\n",
    "\n",
    "state = tf.get_variable(\"counter\", shape=(), dtype=tf.int32,initializer=tf.zeros_initializer())\n",
    "\n",
    "#new_value = tf.add(state,1)\n",
    "#new_value = state + 1\n",
    "\n",
    "#update = tf.assign(state,new_value)\n",
    "\n",
    "update = state.assign_add(1)\n",
    "\n",
    "#run within session\n",
    "with tf.Session() as sess:\n",
    "    tf.global_variables_initializer().run()\n",
    "    #sess.run(tf.global_variables_initializer())\n",
    "    #print(sess.run(state))\n",
    "    #loop\n",
    "    for _ in range(5):\n",
    "        \n",
    "        print(sess.run(state))\n",
    "        #update.eval()\n",
    "        sess.run(update) # or update.op.run() , update.eval()"
   ]
  },
  {
   "cell_type": "code",
   "execution_count": null,
   "metadata": {},
   "outputs": [],
   "source": []
  }
 ],
 "metadata": {
  "kernelspec": {
   "display_name": "Python 3",
   "language": "python",
   "name": "python3"
  },
  "language_info": {
   "codemirror_mode": {
    "name": "ipython",
    "version": 3
   },
   "file_extension": ".py",
   "mimetype": "text/x-python",
   "name": "python",
   "nbconvert_exporter": "python",
   "pygments_lexer": "ipython3",
   "version": "3.7.2"
  }
 },
 "nbformat": 4,
 "nbformat_minor": 2
}
