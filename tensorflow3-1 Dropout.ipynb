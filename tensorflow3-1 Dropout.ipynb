{
 "cells": [
  {
   "cell_type": "code",
   "execution_count": 5,
   "metadata": {},
   "outputs": [],
   "source": [
    "import tensorflow as tf\n",
    "import time\n",
    "from tensorflow.examples.tutorials.mnist import input_data"
   ]
  },
  {
   "cell_type": "code",
   "execution_count": 3,
   "metadata": {},
   "outputs": [
    {
     "name": "stdout",
     "output_type": "stream",
     "text": [
      "[[22. 28.]\n",
      " [49. 64.]]\n"
     ]
    }
   ],
   "source": [
    "# Creates a graph.\n",
    "with tf.device('/gpu:0'):\n",
    "  a = tf.constant([1.0, 2.0, 3.0, 4.0, 5.0, 6.0], shape=[2, 3], name='a')\n",
    "  b = tf.constant([1.0, 2.0, 3.0, 4.0, 5.0, 6.0], shape=[3, 2], name='b')\n",
    "c = tf.matmul(a, b)\n",
    "# Creates a session with log_device_placement set to True.\n",
    "sess = tf.Session(config=tf.ConfigProto(log_device_placement=True))\n",
    "# Runs the op.\n",
    "print(sess.run(c))"
   ]
  },
  {
   "cell_type": "code",
   "execution_count": 7,
   "metadata": {},
   "outputs": [
    {
     "name": "stdout",
     "output_type": "stream",
     "text": [
      "Extracting MINIST_data\\train-images-idx3-ubyte.gz\n",
      "Extracting MINIST_data\\train-labels-idx1-ubyte.gz\n",
      "Extracting MINIST_data\\t10k-images-idx3-ubyte.gz\n",
      "Extracting MINIST_data\\t10k-labels-idx1-ubyte.gz\n",
      "Iter 0,Testing accuracy 0.9514\n",
      "Iter 1,Testing accuracy 0.9624\n",
      "Iter 2,Testing accuracy 0.97\n",
      "Iter 3,Testing accuracy 0.9707\n",
      "Iter 4,Testing accuracy 0.9718\n",
      "Time:50.041642904281616\n"
     ]
    }
   ],
   "source": [
    "mnist = input_data.read_data_sets(\"MINIST_data\",one_hot=True)\n",
    "\n",
    "batch_size = 50\n",
    "\n",
    "n_batch = mnist.train.num_examples // batch_size\n",
    "\n",
    "with tf.device('/gpu:0'):\n",
    "    #placeholder\n",
    "    x = tf.placeholder(tf.float32,[None,784])\n",
    "    y = tf.placeholder(tf.float32,[None,10])\n",
    "\n",
    "    lr = tf.Variable(0.001,dtype='float32')\n",
    "    #控制工作神经元比例\n",
    "    keep_prob = tf.placeholder(tf.float32)\n",
    "\n",
    "    #创建简单神经网络\n",
    "    w1 = tf.Variable(tf.truncated_normal([784,500],stddev = 0.1))\n",
    "    b1 = tf.Variable(tf.zeros([500]) + 0.1)\n",
    "    L1 = tf.nn.tanh(tf.matmul(x,w1) + b1)\n",
    "\n",
    "\n",
    "    L1_drop = tf.nn.dropout(L1,keep_prob)\n",
    "\n",
    "    w2 = tf.Variable(tf.truncated_normal([500,300],stddev = 0.1))\n",
    "    b2 = tf.Variable(tf.zeros([300]) + 0.1)\n",
    "    L2 = tf.nn.tanh(tf.matmul(L1_drop,w2) + b2)\n",
    "\n",
    "    L2_drop = tf.nn.dropout(L2,keep_prob)\n",
    "\n",
    "\n",
    "    #输出\n",
    "    w4 = tf.Variable(tf.truncated_normal([300,10],stddev = 0.1))\n",
    "    b4 = tf.Variable(tf.zeros([10]) + 0.1)\n",
    "    #L4 = tf.nn.tanh(tf.matmul(L3_drop,w4) + b4)\n",
    "\n",
    "\n",
    "    prediction = tf.nn.softmax(tf.matmul(L2_drop,w4)+b4)\n",
    "\n",
    "\n",
    "    #二次代价函数\n",
    "    #loss = tf.reduce_mean(tf.square(y - prediction))\n",
    "    #交叉熵\n",
    "    loss = tf.reduce_mean(tf.nn.softmax_cross_entropy_with_logits_v2(labels = y,logits = prediction))\n",
    "\n",
    "    #train_step = tf.train.GradientDescentOptimizer(0.2).minimize(loss)\n",
    "    train_step = tf.train.AdamOptimizer(lr).minimize(loss)\n",
    "\n",
    "    init = tf.global_variables_initializer()\n",
    "\n",
    "    correct_prediction = tf.equal(tf.argmax(y,1),tf.argmax(prediction,1))\n",
    "\n",
    "    accuracy = tf.reduce_mean(tf.cast(correct_prediction,tf.float32))\n",
    "start = time.time()\n",
    "with tf.Session() as sess: # config=tf.ConfigProto(log_device_placement=True) 记录用的是CPU还是GPU\n",
    "    sess.run(init)\n",
    "    for epoch in range(20):\n",
    "        sess.run(tf.assign(lr,0.001*(0.95**epoch)))\n",
    "        for batch in range(n_batch):\n",
    "            batch_xs,batch_ys = mnist.train.next_batch(batch_size)\n",
    "            sess.run(train_step,feed_dict = {x:batch_xs,y:batch_ys,keep_prob:1.0})\n",
    "        \n",
    "        test_acc = sess.run(accuracy,feed_dict = {x:mnist.test.images,y:mnist.test.labels,keep_prob:1.0})\n",
    "        #train_acc = sess.run(accuracy,feed_dict = {x:mnist.train.images,y:mnist.train.labels,keep_prob:1.0})\n",
    "        \n",
    "        print(\"Iter \" + str(epoch) + \",Testing accuracy \" + str(test_acc))\n",
    "print('Time:{}'.format(time.time() - start))"
   ]
  },
  {
   "cell_type": "code",
   "execution_count": null,
   "metadata": {},
   "outputs": [],
   "source": []
  }
 ],
 "metadata": {
  "kernelspec": {
   "display_name": "Python 3",
   "language": "python",
   "name": "python3"
  },
  "language_info": {
   "codemirror_mode": {
    "name": "ipython",
    "version": 3
   },
   "file_extension": ".py",
   "mimetype": "text/x-python",
   "name": "python",
   "nbconvert_exporter": "python",
   "pygments_lexer": "ipython3",
   "version": "3.7.3"
  }
 },
 "nbformat": 4,
 "nbformat_minor": 2
}
